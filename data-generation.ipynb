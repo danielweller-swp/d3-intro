{
 "cells": [
  {
   "cell_type": "markdown",
   "source": [
    "# Dummy data generation\n"
   ],
   "metadata": {
    "collapsed": false
   }
  },
  {
   "cell_type": "code",
   "execution_count": 21,
   "outputs": [],
   "source": [
    "import numpy as np\n",
    "import pandas as pd\n",
    "import matplotlib.pyplot as plt"
   ],
   "metadata": {
    "collapsed": false,
    "ExecuteTime": {
     "end_time": "2024-02-28T18:13:47.929584800Z",
     "start_time": "2024-02-28T18:13:47.913584400Z"
    }
   }
  },
  {
   "cell_type": "code",
   "execution_count": 22,
   "outputs": [],
   "source": [
    "np.random.seed(42)\n",
    "\n",
    "n = 20\n",
    "coffee_consumption = np.random.normal(800, 100, n) / 10\n",
    "\n",
    "e = np.random.normal(0, 2, n)\n",
    "e_peel_skill = np.random.normal(0, 10, n)\n",
    "\n",
    "flamingo_enthusiasm = 0.6 * coffee_consumption + e + 60\n",
    "peel_skill = flamingo_enthusiasm + e_peel_skill"
   ],
   "metadata": {
    "collapsed": false,
    "ExecuteTime": {
     "end_time": "2024-02-28T18:13:47.957793900Z",
     "start_time": "2024-02-28T18:13:47.928584100Z"
    }
   }
  },
  {
   "cell_type": "code",
   "execution_count": 23,
   "outputs": [
    {
     "data": {
      "text/plain": "<Figure size 640x480 with 1 Axes>",
      "image/png": "[encoded data removed]"
     },
     "metadata": {},
     "output_type": "display_data"
    }
   ],
   "source": [
    "plt.scatter(coffee_consumption, flamingo_enthusiasm)\n",
    "plt.show()"
   ],
   "metadata": {
    "collapsed": false,
    "ExecuteTime": {
     "end_time": "2024-02-28T18:13:48.037235600Z",
     "start_time": "2024-02-28T18:13:47.943584200Z"
    }
   }
  },
  {
   "cell_type": "code",
   "execution_count": 24,
   "outputs": [
    {
     "data": {
      "text/plain": "       employee  coffee_consumption  flamingo_enthusiasm  peel_skill\n0    employee_1           84.967142           113.911582  121.296248\n1    employee_2           78.617357           106.718862  108.432544\n2    employee_3           86.476885           112.021188  110.864705\n3    employee_4           95.230299           114.288683  111.277646\n4    employee_5           77.658466           105.506314   90.721094\n5    employee_6           77.658630           106.817023   99.618581\n6    employee_7           95.792128           115.173290  110.566902\n7    employee_8           87.674347           113.356004  123.927227\n8    employee_9           75.305256           103.981876  107.418059\n9   employee_10           85.425600           110.671973   93.041571\n10  employee_11           75.365823           104.016081  107.256920\n11  employee_12           75.342702           108.910178  105.059355\n12  employee_13           82.419623           109.424779  102.655559\n13  employee_14           60.867198            94.404897  100.521660\n14  employee_15           62.750822            99.295583  109.605578\n15  employee_16           74.377125           102.184588  111.497389\n16  employee_17           69.871689           102.340740   93.948565\n17  employee_18           83.142473           105.966144  102.874020\n18  employee_19           70.919759            99.895483  103.208118\n19  employee_20           65.876963            99.919900  109.675352",
      "text/html": "<div>\n<style scoped>\n    .dataframe tbody tr th:only-of-type {\n        vertical-align: middle;\n    }\n\n    .dataframe tbody tr th {\n        vertical-align: top;\n    }\n\n    .dataframe thead th {\n        text-align: right;\n    }\n</style>\n<table border=\"1\" class=\"dataframe\">\n  <thead>\n    <tr style=\"text-align: right;\">\n      <th></th>\n      <th>employee</th>\n      <th>coffee_consumption</th>\n      <th>flamingo_enthusiasm</th>\n      <th>peel_skill</th>\n    </tr>\n  </thead>\n  <tbody>\n    <tr>\n      <th>0</th>\n      <td>employee_1</td>\n      <td>84.967142</td>\n      <td>113.911582</td>\n      <td>121.296248</td>\n    </tr>\n    <tr>\n      <th>1</th>\n      <td>employee_2</td>\n      <td>78.617357</td>\n      <td>106.718862</td>\n      <td>108.432544</td>\n    </tr>\n    <tr>\n      <th>2</th>\n      <td>employee_3</td>\n      <td>86.476885</td>\n      <td>112.021188</td>\n      <td>110.864705</td>\n    </tr>\n    <tr>\n      <th>3</th>\n      <td>employee_4</td>\n      <td>95.230299</td>\n      <td>114.288683</td>\n      <td>111.277646</td>\n    </tr>\n    <tr>\n      <th>4</th>\n      <td>employee_5</td>\n      <td>77.658466</td>\n      <td>105.506314</td>\n      <td>90.721094</td>\n    </tr>\n    <tr>\n      <th>5</th>\n      <td>employee_6</td>\n      <td>77.658630</td>\n      <td>106.817023</td>\n      <td>99.618581</td>\n    </tr>\n    <tr>\n      <th>6</th>\n      <td>employee_7</td>\n      <td>95.792128</td>\n      <td>115.173290</td>\n      <td>110.566902</td>\n    </tr>\n    <tr>\n      <th>7</th>\n      <td>employee_8</td>\n      <td>87.674347</td>\n      <td>113.356004</td>\n      <td>123.927227</td>\n    </tr>\n    <tr>\n      <th>8</th>\n      <td>employee_9</td>\n      <td>75.305256</td>\n      <td>103.981876</td>\n      <td>107.418059</td>\n    </tr>\n    <tr>\n      <th>9</th>\n      <td>employee_10</td>\n      <td>85.425600</td>\n      <td>110.671973</td>\n      <td>93.041571</td>\n    </tr>\n    <tr>\n      <th>10</th>\n      <td>employee_11</td>\n      <td>75.365823</td>\n      <td>104.016081</td>\n      <td>107.256920</td>\n    </tr>\n    <tr>\n      <th>11</th>\n      <td>employee_12</td>\n      <td>75.342702</td>\n      <td>108.910178</td>\n      <td>105.059355</td>\n    </tr>\n    <tr>\n      <th>12</th>\n      <td>employee_13</td>\n      <td>82.419623</td>\n      <td>109.424779</td>\n      <td>102.655559</td>\n    </tr>\n    <tr>\n      <th>13</th>\n      <td>employee_14</td>\n      <td>60.867198</td>\n      <td>94.404897</td>\n      <td>100.521660</td>\n    </tr>\n    <tr>\n      <th>14</th>\n      <td>employee_15</td>\n      <td>62.750822</td>\n      <td>99.295583</td>\n      <td>109.605578</td>\n    </tr>\n    <tr>\n      <th>15</th>\n      <td>employee_16</td>\n      <td>74.377125</td>\n      <td>102.184588</td>\n      <td>111.497389</td>\n    </tr>\n    <tr>\n      <th>16</th>\n      <td>employee_17</td>\n      <td>69.871689</td>\n      <td>102.340740</td>\n      <td>93.948565</td>\n    </tr>\n    <tr>\n      <th>17</th>\n      <td>employee_18</td>\n      <td>83.142473</td>\n      <td>105.966144</td>\n      <td>102.874020</td>\n    </tr>\n    <tr>\n      <th>18</th>\n      <td>employee_19</td>\n      <td>70.919759</td>\n      <td>99.895483</td>\n      <td>103.208118</td>\n    </tr>\n    <tr>\n      <th>19</th>\n      <td>employee_20</td>\n      <td>65.876963</td>\n      <td>99.919900</td>\n      <td>109.675352</td>\n    </tr>\n  </tbody>\n</table>\n</div>"
     },
     "execution_count": 24,
     "metadata": {},
     "output_type": "execute_result"
    }
   ],
   "source": [
    "names = [f\"employee_{i+1}\" for i in range(n)]\n",
    "df = pd.DataFrame({'employee': names, 'coffee_consumption': coffee_consumption, 'flamingo_enthusiasm': flamingo_enthusiasm, 'peel_skill': peel_skill})\n",
    "df"
   ],
   "metadata": {
    "collapsed": false,
    "ExecuteTime": {
     "end_time": "2024-02-28T18:13:48.056003Z",
     "start_time": "2024-02-28T18:13:48.038003600Z"
    }
   }
  },
  {
   "cell_type": "code",
   "execution_count": 25,
   "outputs": [],
   "source": [
    "# Save data\n",
    "df.to_csv('best-practice-example/static/data/data.csv', index=False)"
   ],
   "metadata": {
    "collapsed": false,
    "ExecuteTime": {
     "end_time": "2024-02-28T18:13:48.122906100Z",
     "start_time": "2024-02-28T18:13:48.054002800Z"
    }
   }
  }
 ],
 "metadata": {
  "kernelspec": {
   "display_name": "Python 3",
   "language": "python",
   "name": "python3"
  },
  "language_info": {
   "codemirror_mode": {
    "name": "ipython",
    "version": 2
   },
   "file_extension": ".py",
   "mimetype": "text/x-python",
   "name": "python",
   "nbconvert_exporter": "python",
   "pygments_lexer": "ipython2",
   "version": "2.7.6"
  }
 },
 "nbformat": 4,
 "nbformat_minor": 0
}
