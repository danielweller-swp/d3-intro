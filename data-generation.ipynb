{
 "cells": [
  {
   "cell_type": "markdown",
   "source": [
    "# Dummy data generation\n"
   ],
   "metadata": {
    "collapsed": false
   }
  },
  {
   "cell_type": "code",
   "execution_count": 76,
   "outputs": [],
   "source": [
    "import numpy as np\n",
    "import pandas as pd\n",
    "import matplotlib.pyplot as plt"
   ],
   "metadata": {
    "collapsed": false,
    "ExecuteTime": {
     "end_time": "2024-02-28T19:59:43.006205800Z",
     "start_time": "2024-02-28T19:59:42.972262400Z"
    }
   }
  },
  {
   "cell_type": "code",
   "execution_count": 77,
   "outputs": [],
   "source": [
    "np.random.seed(123)\n",
    "\n",
    "n = 20\n",
    "coffee_consumption = np.random.normal(800, 100, n) / 10\n",
    "\n",
    "e = np.random.normal(0, 2, n)\n",
    "e_peel_skill = np.random.normal(0, 5, n)\n",
    "\n",
    "flamingo_enthusiasm = 0.6 * coffee_consumption + e + 30\n",
    "peel_skill = flamingo_enthusiasm + e_peel_skill * 0.8"
   ],
   "metadata": {
    "collapsed": false,
    "ExecuteTime": {
     "end_time": "2024-02-28T19:59:43.016732500Z",
     "start_time": "2024-02-28T19:59:42.980157300Z"
    }
   }
  },
  {
   "cell_type": "code",
   "execution_count": 78,
   "outputs": [
    {
     "data": {
      "text/plain": "<Figure size 640x480 with 1 Axes>",
      "image/png": "[encoded data removed]"
     },
     "metadata": {},
     "output_type": "display_data"
    }
   ],
   "source": [
    "plt.scatter(coffee_consumption, flamingo_enthusiasm)\n",
    "plt.show()"
   ],
   "metadata": {
    "collapsed": false,
    "ExecuteTime": {
     "end_time": "2024-02-28T19:59:43.086791600Z",
     "start_time": "2024-02-28T19:59:43.006205800Z"
    }
   }
  },
  {
   "cell_type": "code",
   "execution_count": 79,
   "outputs": [
    {
     "data": {
      "text/plain": "       employee  coffee_consumption  flamingo_enthusiasm  peel_skill\n0    employee_1           69.143694            72.960954   69.739487\n1    employee_2           89.973454            86.965537   80.054859\n2    employee_3           82.829785            77.826203   76.262604\n3    employee_4           64.937053            71.313890   73.609113\n4    employee_5           74.213997            72.020637   73.374993\n5    employee_6           96.514365            86.633116   86.585794\n6    employee_7           55.733208            65.254135   74.823596\n7    employee_8           75.710874            72.569163   74.220811\n8    employee_9           92.659363            85.315480   89.230424\n9   employee_10           71.332596            71.076048   80.028621\n10  employee_11           73.211138            73.415444   68.239103\n11  employee_12           79.052910            71.834568   67.679415\n12  employee_13           94.913896            83.405272   90.380120\n13  employee_14           73.610980            72.766834   69.574583\n14  employee_15           75.560180            77.191033   77.309766\n15  employee_16           75.656487            75.046621   79.323885\n16  employee_17          102.059301            91.241272   94.804098\n17  employee_18          101.867861            92.497162   99.516707\n18  employee_19           90.040539            82.265251   88.247827\n19  employee_20           83.861864            80.884373   85.161944",
      "text/html": "<div>\n<style scoped>\n    .dataframe tbody tr th:only-of-type {\n        vertical-align: middle;\n    }\n\n    .dataframe tbody tr th {\n        vertical-align: top;\n    }\n\n    .dataframe thead th {\n        text-align: right;\n    }\n</style>\n<table border=\"1\" class=\"dataframe\">\n  <thead>\n    <tr style=\"text-align: right;\">\n      <th></th>\n      <th>employee</th>\n      <th>coffee_consumption</th>\n      <th>flamingo_enthusiasm</th>\n      <th>peel_skill</th>\n    </tr>\n  </thead>\n  <tbody>\n    <tr>\n      <th>0</th>\n      <td>employee_1</td>\n      <td>69.143694</td>\n      <td>72.960954</td>\n      <td>69.739487</td>\n    </tr>\n    <tr>\n      <th>1</th>\n      <td>employee_2</td>\n      <td>89.973454</td>\n      <td>86.965537</td>\n      <td>80.054859</td>\n    </tr>\n    <tr>\n      <th>2</th>\n      <td>employee_3</td>\n      <td>82.829785</td>\n      <td>77.826203</td>\n      <td>76.262604</td>\n    </tr>\n    <tr>\n      <th>3</th>\n      <td>employee_4</td>\n      <td>64.937053</td>\n      <td>71.313890</td>\n      <td>73.609113</td>\n    </tr>\n    <tr>\n      <th>4</th>\n      <td>employee_5</td>\n      <td>74.213997</td>\n      <td>72.020637</td>\n      <td>73.374993</td>\n    </tr>\n    <tr>\n      <th>5</th>\n      <td>employee_6</td>\n      <td>96.514365</td>\n      <td>86.633116</td>\n      <td>86.585794</td>\n    </tr>\n    <tr>\n      <th>6</th>\n      <td>employee_7</td>\n      <td>55.733208</td>\n      <td>65.254135</td>\n      <td>74.823596</td>\n    </tr>\n    <tr>\n      <th>7</th>\n      <td>employee_8</td>\n      <td>75.710874</td>\n      <td>72.569163</td>\n      <td>74.220811</td>\n    </tr>\n    <tr>\n      <th>8</th>\n      <td>employee_9</td>\n      <td>92.659363</td>\n      <td>85.315480</td>\n      <td>89.230424</td>\n    </tr>\n    <tr>\n      <th>9</th>\n      <td>employee_10</td>\n      <td>71.332596</td>\n      <td>71.076048</td>\n      <td>80.028621</td>\n    </tr>\n    <tr>\n      <th>10</th>\n      <td>employee_11</td>\n      <td>73.211138</td>\n      <td>73.415444</td>\n      <td>68.239103</td>\n    </tr>\n    <tr>\n      <th>11</th>\n      <td>employee_12</td>\n      <td>79.052910</td>\n      <td>71.834568</td>\n      <td>67.679415</td>\n    </tr>\n    <tr>\n      <th>12</th>\n      <td>employee_13</td>\n      <td>94.913896</td>\n      <td>83.405272</td>\n      <td>90.380120</td>\n    </tr>\n    <tr>\n      <th>13</th>\n      <td>employee_14</td>\n      <td>73.610980</td>\n      <td>72.766834</td>\n      <td>69.574583</td>\n    </tr>\n    <tr>\n      <th>14</th>\n      <td>employee_15</td>\n      <td>75.560180</td>\n      <td>77.191033</td>\n      <td>77.309766</td>\n    </tr>\n    <tr>\n      <th>15</th>\n      <td>employee_16</td>\n      <td>75.656487</td>\n      <td>75.046621</td>\n      <td>79.323885</td>\n    </tr>\n    <tr>\n      <th>16</th>\n      <td>employee_17</td>\n      <td>102.059301</td>\n      <td>91.241272</td>\n      <td>94.804098</td>\n    </tr>\n    <tr>\n      <th>17</th>\n      <td>employee_18</td>\n      <td>101.867861</td>\n      <td>92.497162</td>\n      <td>99.516707</td>\n    </tr>\n    <tr>\n      <th>18</th>\n      <td>employee_19</td>\n      <td>90.040539</td>\n      <td>82.265251</td>\n      <td>88.247827</td>\n    </tr>\n    <tr>\n      <th>19</th>\n      <td>employee_20</td>\n      <td>83.861864</td>\n      <td>80.884373</td>\n      <td>85.161944</td>\n    </tr>\n  </tbody>\n</table>\n</div>"
     },
     "execution_count": 79,
     "metadata": {},
     "output_type": "execute_result"
    }
   ],
   "source": [
    "names = [f\"employee_{i+1}\" for i in range(n)]\n",
    "df = pd.DataFrame({'employee': names, 'coffee_consumption': coffee_consumption, 'flamingo_enthusiasm': flamingo_enthusiasm, 'peel_skill': peel_skill})\n",
    "df"
   ],
   "metadata": {
    "collapsed": false,
    "ExecuteTime": {
     "end_time": "2024-02-28T19:59:43.159168700Z",
     "start_time": "2024-02-28T19:59:43.087789800Z"
    }
   }
  },
  {
   "cell_type": "code",
   "execution_count": 80,
   "outputs": [],
   "source": [
    "# Save data\n",
    "df.to_csv('best-practice-example/static/data/data.csv', index=False)"
   ],
   "metadata": {
    "collapsed": false,
    "ExecuteTime": {
     "end_time": "2024-02-28T19:59:43.159168700Z",
     "start_time": "2024-02-28T19:59:43.104212900Z"
    }
   }
  }
 ],
 "metadata": {
  "kernelspec": {
   "display_name": "Python 3",
   "language": "python",
   "name": "python3"
  },
  "language_info": {
   "codemirror_mode": {
    "name": "ipython",
    "version": 2
   },
   "file_extension": ".py",
   "mimetype": "text/x-python",
   "name": "python",
   "nbconvert_exporter": "python",
   "pygments_lexer": "ipython2",
   "version": "2.7.6"
  }
 },
 "nbformat": 4,
 "nbformat_minor": 0
}
