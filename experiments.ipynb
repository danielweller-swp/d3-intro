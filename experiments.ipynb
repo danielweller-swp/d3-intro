{
 "cells": [
  {
   "cell_type": "markdown",
   "source": [
    "# Dummy data generation\n"
   ],
   "metadata": {
    "collapsed": false
   }
  },
  {
   "cell_type": "code",
   "execution_count": 2,
   "outputs": [],
   "source": [
    "import numpy as np\n",
    "import pandas as pd\n",
    "import matplotlib.pyplot as plt"
   ],
   "metadata": {
    "collapsed": false,
    "ExecuteTime": {
     "end_time": "2024-02-28T09:24:04.206964300Z",
     "start_time": "2024-02-28T09:24:03.492018700Z"
    }
   }
  },
  {
   "cell_type": "code",
   "execution_count": 3,
   "outputs": [],
   "source": [
    "np.random.seed(42)\n",
    "\n",
    "n = 20\n",
    "x = np.random.normal(800, 80, n) / 10\n",
    "e = np.random.normal(0, 2, n)\n",
    "y = 0.6 * x + e + 60\n",
    "\n",
    "size = np.random.normal(10, 3, n)"
   ],
   "metadata": {
    "collapsed": false,
    "ExecuteTime": {
     "end_time": "2024-02-28T09:24:04.228472100Z",
     "start_time": "2024-02-28T09:24:04.212012600Z"
    }
   }
  },
  {
   "cell_type": "code",
   "execution_count": 4,
   "outputs": [
    {
     "data": {
      "text/plain": "<Figure size 640x480 with 1 Axes>",
      "image/png": "[encoded data removed]"
     },
     "metadata": {},
     "output_type": "display_data"
    }
   ],
   "source": [
    "plt.scatter(x, y)\n",
    "plt.show()"
   ],
   "metadata": {
    "collapsed": false,
    "ExecuteTime": {
     "end_time": "2024-02-28T09:24:04.387984400Z",
     "start_time": "2024-02-28T09:24:04.228472100Z"
    }
   }
  },
  {
   "cell_type": "code",
   "execution_count": 5,
   "outputs": [
    {
     "data": {
      "text/plain": "          names          x           y       size\n0    employee_1  83.973713  113.315525  12.215400\n1    employee_2  78.893886  106.884779  10.514105\n2    employee_3  85.181508  111.243961   9.653055\n3    employee_4  92.184239  112.461047   9.096689\n4    employee_5  78.126773  105.787298   5.564434\n5    employee_6  78.126904  107.097988   7.840467\n6    employee_7  92.633703  113.278234   8.618084\n7    employee_8  86.139478  112.435083  13.171367\n8    employee_9  76.244205  104.545246  11.030855\n9   employee_10  84.340480  110.020901   4.710880\n10  employee_11  76.292658  104.572182  10.972252\n11  employee_12  76.274162  109.469054   8.844753\n12  employee_13  81.935698  109.134424   7.969234\n13  employee_14  64.693758   96.700833  11.835029\n14  employee_15  66.200657  101.365484  13.092999\n15  employee_16  75.501700  102.859333  12.793840\n16  employee_17  71.897351  103.556138   7.482347\n17  employee_18  82.513979  105.589047   9.072363\n18  employee_19  72.735807  100.985112  10.993790\n19  employee_20  68.701570  101.614665  12.926635",
      "text/html": "<div>\n<style scoped>\n    .dataframe tbody tr th:only-of-type {\n        vertical-align: middle;\n    }\n\n    .dataframe tbody tr th {\n        vertical-align: top;\n    }\n\n    .dataframe thead th {\n        text-align: right;\n    }\n</style>\n<table border=\"1\" class=\"dataframe\">\n  <thead>\n    <tr style=\"text-align: right;\">\n      <th></th>\n      <th>names</th>\n      <th>x</th>\n      <th>y</th>\n      <th>size</th>\n    </tr>\n  </thead>\n  <tbody>\n    <tr>\n      <th>0</th>\n      <td>employee_1</td>\n      <td>83.973713</td>\n      <td>113.315525</td>\n      <td>12.215400</td>\n    </tr>\n    <tr>\n      <th>1</th>\n      <td>employee_2</td>\n      <td>78.893886</td>\n      <td>106.884779</td>\n      <td>10.514105</td>\n    </tr>\n    <tr>\n      <th>2</th>\n      <td>employee_3</td>\n      <td>85.181508</td>\n      <td>111.243961</td>\n      <td>9.653055</td>\n    </tr>\n    <tr>\n      <th>3</th>\n      <td>employee_4</td>\n      <td>92.184239</td>\n      <td>112.461047</td>\n      <td>9.096689</td>\n    </tr>\n    <tr>\n      <th>4</th>\n      <td>employee_5</td>\n      <td>78.126773</td>\n      <td>105.787298</td>\n      <td>5.564434</td>\n    </tr>\n    <tr>\n      <th>5</th>\n      <td>employee_6</td>\n      <td>78.126904</td>\n      <td>107.097988</td>\n      <td>7.840467</td>\n    </tr>\n    <tr>\n      <th>6</th>\n      <td>employee_7</td>\n      <td>92.633703</td>\n      <td>113.278234</td>\n      <td>8.618084</td>\n    </tr>\n    <tr>\n      <th>7</th>\n      <td>employee_8</td>\n      <td>86.139478</td>\n      <td>112.435083</td>\n      <td>13.171367</td>\n    </tr>\n    <tr>\n      <th>8</th>\n      <td>employee_9</td>\n      <td>76.244205</td>\n      <td>104.545246</td>\n      <td>11.030855</td>\n    </tr>\n    <tr>\n      <th>9</th>\n      <td>employee_10</td>\n      <td>84.340480</td>\n      <td>110.020901</td>\n      <td>4.710880</td>\n    </tr>\n    <tr>\n      <th>10</th>\n      <td>employee_11</td>\n      <td>76.292658</td>\n      <td>104.572182</td>\n      <td>10.972252</td>\n    </tr>\n    <tr>\n      <th>11</th>\n      <td>employee_12</td>\n      <td>76.274162</td>\n      <td>109.469054</td>\n      <td>8.844753</td>\n    </tr>\n    <tr>\n      <th>12</th>\n      <td>employee_13</td>\n      <td>81.935698</td>\n      <td>109.134424</td>\n      <td>7.969234</td>\n    </tr>\n    <tr>\n      <th>13</th>\n      <td>employee_14</td>\n      <td>64.693758</td>\n      <td>96.700833</td>\n      <td>11.835029</td>\n    </tr>\n    <tr>\n      <th>14</th>\n      <td>employee_15</td>\n      <td>66.200657</td>\n      <td>101.365484</td>\n      <td>13.092999</td>\n    </tr>\n    <tr>\n      <th>15</th>\n      <td>employee_16</td>\n      <td>75.501700</td>\n      <td>102.859333</td>\n      <td>12.793840</td>\n    </tr>\n    <tr>\n      <th>16</th>\n      <td>employee_17</td>\n      <td>71.897351</td>\n      <td>103.556138</td>\n      <td>7.482347</td>\n    </tr>\n    <tr>\n      <th>17</th>\n      <td>employee_18</td>\n      <td>82.513979</td>\n      <td>105.589047</td>\n      <td>9.072363</td>\n    </tr>\n    <tr>\n      <th>18</th>\n      <td>employee_19</td>\n      <td>72.735807</td>\n      <td>100.985112</td>\n      <td>10.993790</td>\n    </tr>\n    <tr>\n      <th>19</th>\n      <td>employee_20</td>\n      <td>68.701570</td>\n      <td>101.614665</td>\n      <td>12.926635</td>\n    </tr>\n  </tbody>\n</table>\n</div>"
     },
     "execution_count": 5,
     "metadata": {},
     "output_type": "execute_result"
    }
   ],
   "source": [
    "names = [f\"employee_{i+1}\" for i in range(n)]\n",
    "df = pd.DataFrame({'names': names, 'x': x, 'y': y, 'size': size})\n",
    "df"
   ],
   "metadata": {
    "collapsed": false,
    "ExecuteTime": {
     "end_time": "2024-02-28T09:24:04.478227500Z",
     "start_time": "2024-02-28T09:24:04.387984400Z"
    }
   }
  },
  {
   "cell_type": "code",
   "execution_count": 6,
   "outputs": [],
   "source": [
    "# Save data\n",
    "df.to_csv('best-practice-example/static/data/data.csv', index=False)"
   ],
   "metadata": {
    "collapsed": false,
    "ExecuteTime": {
     "end_time": "2024-02-28T09:24:04.478227500Z",
     "start_time": "2024-02-28T09:24:04.425433300Z"
    }
   }
  }
 ],
 "metadata": {
  "kernelspec": {
   "display_name": "Python 3",
   "language": "python",
   "name": "python3"
  },
  "language_info": {
   "codemirror_mode": {
    "name": "ipython",
    "version": 2
   },
   "file_extension": ".py",
   "mimetype": "text/x-python",
   "name": "python",
   "nbconvert_exporter": "python",
   "pygments_lexer": "ipython2",
   "version": "2.7.6"
  }
 },
 "nbformat": 4,
 "nbformat_minor": 0
}
